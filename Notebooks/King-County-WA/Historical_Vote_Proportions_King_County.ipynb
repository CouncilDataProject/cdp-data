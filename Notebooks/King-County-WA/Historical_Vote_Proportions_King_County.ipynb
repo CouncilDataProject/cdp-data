{
 "cells": [
  {
   "cell_type": "markdown",
   "metadata": {},
   "source": [
    "***\n",
    "\n",
    "<center> <h1>Historical Voting Records for King County</h1> </center>\n",
    "\n",
    "***"
   ]
  },
  {
   "cell_type": "markdown",
   "metadata": {},
   "source": [
    "***\n",
    "\n",
    "<center> <h3> Load relevant libraries for the task</h3> </center>\n",
    "\n",
    "***"
   ]
  },
  {
   "cell_type": "code",
   "execution_count": 1,
   "metadata": {},
   "outputs": [],
   "source": [
    "## Libraries for connection and retrieval from the database\n",
    "import fireo  \n",
    "from google.cloud.firestore import Client\n",
    "from google.auth.credentials import AnonymousCredentials\n",
    "from cdp_backend.database import models as db_models\n",
    "\n",
    "## Libraries for working with the data files\n",
    "import pandas as pd\n",
    "\n",
    "## For plotting\n",
    "from matplotlib import pyplot as plt\n",
    "import numpy as np"
   ]
  },
  {
   "cell_type": "code",
   "execution_count": 2,
   "metadata": {},
   "outputs": [],
   "source": [
    "## Open a connection to the King County Database\n",
    "\n",
    "king_county = fireo.connection(client=Client(\n",
    "    project=\"cdp-king-county-b656c71b\",\n",
    "    credentials=AnonymousCredentials()\n",
    "))"
   ]
  },
  {
   "cell_type": "markdown",
   "metadata": {},
   "source": [
    "***\n",
    "\n",
    "<center> <h3> Fetch all historical votes from data base</h3> </center>\n",
    "\n",
    "***"
   ]
  },
  {
   "cell_type": "code",
   "execution_count": 3,
   "metadata": {},
   "outputs": [
    {
     "data": {
      "text/plain": [
       "[<cdp_backend.database.models.Vote at 0x7ffc18294d90>,\n",
       " <cdp_backend.database.models.Vote at 0x7ffc181cead0>,\n",
       " <cdp_backend.database.models.Vote at 0x7ffc17ccd950>,\n",
       " <cdp_backend.database.models.Vote at 0x7ffc182a1750>,\n",
       " <cdp_backend.database.models.Vote at 0x7ffc182a1e50>]"
      ]
     },
     "execution_count": 3,
     "metadata": {},
     "output_type": "execute_result"
    }
   ],
   "source": [
    "############ Select all of the records from the Vote table ############\n",
    "\n",
    "## If you want to specify a certain amount of records, just use an argument within fetch() function.\n",
    "voting_records = list(db_models.Vote.collection.fetch()) \n",
    "\n",
    "## Preview file\n",
    "voting_records[0:5]"
   ]
  },
  {
   "cell_type": "code",
   "execution_count": 59,
   "metadata": {},
   "outputs": [
    {
     "name": "stdout",
     "output_type": "stream",
     "text": [
      "Total Voting Records To Date: 1850\n"
     ]
    }
   ],
   "source": [
    "## Total voting records to date:\n",
    "\n",
    "print(\"Total Voting Records To Date:\", len(voting_records))"
   ]
  },
  {
   "cell_type": "markdown",
   "metadata": {},
   "source": [
    "***\n",
    "\n",
    "* These files actually just contain information about the voting records we are interested in.\n",
    "* In order to work with the files we need to \"unpack\" them using this information we retrieved.\n",
    "\n",
    "***"
   ]
  },
  {
   "cell_type": "code",
   "execution_count": 54,
   "metadata": {},
   "outputs": [],
   "source": [
    "## Function to unpack voting records with data retrieved\n",
    "\n",
    "def unpack_vote_objects(db_models_objects):\n",
    "    '''\n",
    "    Takes a list of db_models objects and returns a pandas dataframe.\n",
    "    \n",
    "    '''\n",
    "    unpack = list(map(lambda x: {**x.to_dict(), 'id': x.id}, db_models_objects))\n",
    "    voting_records_df = pd.DataFrame(unpack)\n",
    "    voting_records_df.set_index('id', inplace=True)\n",
    "    return(voting_records_df)\n",
    "\n",
    "## Call unpack function on our list of objects\n",
    "voting_records_df = unpack_vote_objects(voting_records)"
   ]
  },
  {
   "cell_type": "code",
   "execution_count": 55,
   "metadata": {},
   "outputs": [
    {
     "data": {
      "text/html": [
       "<div>\n",
       "<style scoped>\n",
       "    .dataframe tbody tr th:only-of-type {\n",
       "        vertical-align: middle;\n",
       "    }\n",
       "\n",
       "    .dataframe tbody tr th {\n",
       "        vertical-align: top;\n",
       "    }\n",
       "\n",
       "    .dataframe thead th {\n",
       "        text-align: right;\n",
       "    }\n",
       "</style>\n",
       "<table border=\"1\" class=\"dataframe\">\n",
       "  <thead>\n",
       "    <tr style=\"text-align: right;\">\n",
       "      <th></th>\n",
       "      <th>matter_ref</th>\n",
       "      <th>event_ref</th>\n",
       "      <th>event_minutes_item_ref</th>\n",
       "      <th>person_ref</th>\n",
       "      <th>decision</th>\n",
       "      <th>in_majority</th>\n",
       "      <th>external_source_id</th>\n",
       "      <th>key</th>\n",
       "    </tr>\n",
       "    <tr>\n",
       "      <th>id</th>\n",
       "      <th></th>\n",
       "      <th></th>\n",
       "      <th></th>\n",
       "      <th></th>\n",
       "      <th></th>\n",
       "      <th></th>\n",
       "      <th></th>\n",
       "      <th></th>\n",
       "    </tr>\n",
       "  </thead>\n",
       "  <tbody>\n",
       "    <tr>\n",
       "      <th>52ef4766db18</th>\n",
       "      <td>&lt;fireo.queries.query_wrapper.ReferenceDocLoade...</td>\n",
       "      <td>&lt;fireo.queries.query_wrapper.ReferenceDocLoade...</td>\n",
       "      <td>&lt;fireo.queries.query_wrapper.ReferenceDocLoade...</td>\n",
       "      <td>&lt;fireo.queries.query_wrapper.ReferenceDocLoade...</td>\n",
       "      <td>Approve</td>\n",
       "      <td>True</td>\n",
       "      <td>163368</td>\n",
       "      <td>vote/52ef4766db18</td>\n",
       "    </tr>\n",
       "    <tr>\n",
       "      <th>92a4dd214022</th>\n",
       "      <td>&lt;fireo.queries.query_wrapper.ReferenceDocLoade...</td>\n",
       "      <td>&lt;fireo.queries.query_wrapper.ReferenceDocLoade...</td>\n",
       "      <td>&lt;fireo.queries.query_wrapper.ReferenceDocLoade...</td>\n",
       "      <td>&lt;fireo.queries.query_wrapper.ReferenceDocLoade...</td>\n",
       "      <td>Approve</td>\n",
       "      <td>True</td>\n",
       "      <td>164119</td>\n",
       "      <td>vote/92a4dd214022</td>\n",
       "    </tr>\n",
       "    <tr>\n",
       "      <th>686d97c6a1d9</th>\n",
       "      <td>&lt;fireo.queries.query_wrapper.ReferenceDocLoade...</td>\n",
       "      <td>&lt;fireo.queries.query_wrapper.ReferenceDocLoade...</td>\n",
       "      <td>&lt;fireo.queries.query_wrapper.ReferenceDocLoade...</td>\n",
       "      <td>&lt;fireo.queries.query_wrapper.ReferenceDocLoade...</td>\n",
       "      <td>Approve</td>\n",
       "      <td>True</td>\n",
       "      <td>164156</td>\n",
       "      <td>vote/686d97c6a1d9</td>\n",
       "    </tr>\n",
       "    <tr>\n",
       "      <th>bc2e2aa0f672</th>\n",
       "      <td>&lt;fireo.queries.query_wrapper.ReferenceDocLoade...</td>\n",
       "      <td>&lt;fireo.queries.query_wrapper.ReferenceDocLoade...</td>\n",
       "      <td>&lt;fireo.queries.query_wrapper.ReferenceDocLoade...</td>\n",
       "      <td>&lt;fireo.queries.query_wrapper.ReferenceDocLoade...</td>\n",
       "      <td>Approve</td>\n",
       "      <td>True</td>\n",
       "      <td>163876</td>\n",
       "      <td>vote/bc2e2aa0f672</td>\n",
       "    </tr>\n",
       "    <tr>\n",
       "      <th>c7a7c3a7840a</th>\n",
       "      <td>&lt;fireo.queries.query_wrapper.ReferenceDocLoade...</td>\n",
       "      <td>&lt;fireo.queries.query_wrapper.ReferenceDocLoade...</td>\n",
       "      <td>&lt;fireo.queries.query_wrapper.ReferenceDocLoade...</td>\n",
       "      <td>&lt;fireo.queries.query_wrapper.ReferenceDocLoade...</td>\n",
       "      <td>Approve</td>\n",
       "      <td>True</td>\n",
       "      <td>163637</td>\n",
       "      <td>vote/c7a7c3a7840a</td>\n",
       "    </tr>\n",
       "    <tr>\n",
       "      <th>2105bc1d693d</th>\n",
       "      <td>&lt;fireo.queries.query_wrapper.ReferenceDocLoade...</td>\n",
       "      <td>&lt;fireo.queries.query_wrapper.ReferenceDocLoade...</td>\n",
       "      <td>&lt;fireo.queries.query_wrapper.ReferenceDocLoade...</td>\n",
       "      <td>&lt;fireo.queries.query_wrapper.ReferenceDocLoade...</td>\n",
       "      <td>Approve</td>\n",
       "      <td>True</td>\n",
       "      <td>164091</td>\n",
       "      <td>vote/2105bc1d693d</td>\n",
       "    </tr>\n",
       "    <tr>\n",
       "      <th>9e0be97e7578</th>\n",
       "      <td>&lt;fireo.queries.query_wrapper.ReferenceDocLoade...</td>\n",
       "      <td>&lt;fireo.queries.query_wrapper.ReferenceDocLoade...</td>\n",
       "      <td>&lt;fireo.queries.query_wrapper.ReferenceDocLoade...</td>\n",
       "      <td>&lt;fireo.queries.query_wrapper.ReferenceDocLoade...</td>\n",
       "      <td>Approve</td>\n",
       "      <td>True</td>\n",
       "      <td>163947</td>\n",
       "      <td>vote/9e0be97e7578</td>\n",
       "    </tr>\n",
       "    <tr>\n",
       "      <th>fe4356f68618</th>\n",
       "      <td>&lt;fireo.queries.query_wrapper.ReferenceDocLoade...</td>\n",
       "      <td>&lt;fireo.queries.query_wrapper.ReferenceDocLoade...</td>\n",
       "      <td>&lt;fireo.queries.query_wrapper.ReferenceDocLoade...</td>\n",
       "      <td>&lt;fireo.queries.query_wrapper.ReferenceDocLoade...</td>\n",
       "      <td>Approve</td>\n",
       "      <td>True</td>\n",
       "      <td>163562</td>\n",
       "      <td>vote/fe4356f68618</td>\n",
       "    </tr>\n",
       "    <tr>\n",
       "      <th>52154cb9a101</th>\n",
       "      <td>&lt;fireo.queries.query_wrapper.ReferenceDocLoade...</td>\n",
       "      <td>&lt;fireo.queries.query_wrapper.ReferenceDocLoade...</td>\n",
       "      <td>&lt;fireo.queries.query_wrapper.ReferenceDocLoade...</td>\n",
       "      <td>&lt;fireo.queries.query_wrapper.ReferenceDocLoade...</td>\n",
       "      <td>Approve</td>\n",
       "      <td>True</td>\n",
       "      <td>162824</td>\n",
       "      <td>vote/52154cb9a101</td>\n",
       "    </tr>\n",
       "    <tr>\n",
       "      <th>255b0fd045b1</th>\n",
       "      <td>&lt;fireo.queries.query_wrapper.ReferenceDocLoade...</td>\n",
       "      <td>&lt;fireo.queries.query_wrapper.ReferenceDocLoade...</td>\n",
       "      <td>&lt;fireo.queries.query_wrapper.ReferenceDocLoade...</td>\n",
       "      <td>&lt;fireo.queries.query_wrapper.ReferenceDocLoade...</td>\n",
       "      <td>Approve</td>\n",
       "      <td>True</td>\n",
       "      <td>163391</td>\n",
       "      <td>vote/255b0fd045b1</td>\n",
       "    </tr>\n",
       "    <tr>\n",
       "      <th>d5b8fd894744</th>\n",
       "      <td>&lt;fireo.queries.query_wrapper.ReferenceDocLoade...</td>\n",
       "      <td>&lt;fireo.queries.query_wrapper.ReferenceDocLoade...</td>\n",
       "      <td>&lt;fireo.queries.query_wrapper.ReferenceDocLoade...</td>\n",
       "      <td>&lt;fireo.queries.query_wrapper.ReferenceDocLoade...</td>\n",
       "      <td>Approve</td>\n",
       "      <td>True</td>\n",
       "      <td>163184</td>\n",
       "      <td>vote/d5b8fd894744</td>\n",
       "    </tr>\n",
       "    <tr>\n",
       "      <th>6f2874e03bb1</th>\n",
       "      <td>&lt;fireo.queries.query_wrapper.ReferenceDocLoade...</td>\n",
       "      <td>&lt;fireo.queries.query_wrapper.ReferenceDocLoade...</td>\n",
       "      <td>&lt;fireo.queries.query_wrapper.ReferenceDocLoade...</td>\n",
       "      <td>&lt;fireo.queries.query_wrapper.ReferenceDocLoade...</td>\n",
       "      <td>Approve</td>\n",
       "      <td>True</td>\n",
       "      <td>163652</td>\n",
       "      <td>vote/6f2874e03bb1</td>\n",
       "    </tr>\n",
       "  </tbody>\n",
       "</table>\n",
       "</div>"
      ],
      "text/plain": [
       "                                                     matter_ref  \\\n",
       "id                                                                \n",
       "52ef4766db18  <fireo.queries.query_wrapper.ReferenceDocLoade...   \n",
       "92a4dd214022  <fireo.queries.query_wrapper.ReferenceDocLoade...   \n",
       "686d97c6a1d9  <fireo.queries.query_wrapper.ReferenceDocLoade...   \n",
       "bc2e2aa0f672  <fireo.queries.query_wrapper.ReferenceDocLoade...   \n",
       "c7a7c3a7840a  <fireo.queries.query_wrapper.ReferenceDocLoade...   \n",
       "2105bc1d693d  <fireo.queries.query_wrapper.ReferenceDocLoade...   \n",
       "9e0be97e7578  <fireo.queries.query_wrapper.ReferenceDocLoade...   \n",
       "fe4356f68618  <fireo.queries.query_wrapper.ReferenceDocLoade...   \n",
       "52154cb9a101  <fireo.queries.query_wrapper.ReferenceDocLoade...   \n",
       "255b0fd045b1  <fireo.queries.query_wrapper.ReferenceDocLoade...   \n",
       "d5b8fd894744  <fireo.queries.query_wrapper.ReferenceDocLoade...   \n",
       "6f2874e03bb1  <fireo.queries.query_wrapper.ReferenceDocLoade...   \n",
       "\n",
       "                                                      event_ref  \\\n",
       "id                                                                \n",
       "52ef4766db18  <fireo.queries.query_wrapper.ReferenceDocLoade...   \n",
       "92a4dd214022  <fireo.queries.query_wrapper.ReferenceDocLoade...   \n",
       "686d97c6a1d9  <fireo.queries.query_wrapper.ReferenceDocLoade...   \n",
       "bc2e2aa0f672  <fireo.queries.query_wrapper.ReferenceDocLoade...   \n",
       "c7a7c3a7840a  <fireo.queries.query_wrapper.ReferenceDocLoade...   \n",
       "2105bc1d693d  <fireo.queries.query_wrapper.ReferenceDocLoade...   \n",
       "9e0be97e7578  <fireo.queries.query_wrapper.ReferenceDocLoade...   \n",
       "fe4356f68618  <fireo.queries.query_wrapper.ReferenceDocLoade...   \n",
       "52154cb9a101  <fireo.queries.query_wrapper.ReferenceDocLoade...   \n",
       "255b0fd045b1  <fireo.queries.query_wrapper.ReferenceDocLoade...   \n",
       "d5b8fd894744  <fireo.queries.query_wrapper.ReferenceDocLoade...   \n",
       "6f2874e03bb1  <fireo.queries.query_wrapper.ReferenceDocLoade...   \n",
       "\n",
       "                                         event_minutes_item_ref  \\\n",
       "id                                                                \n",
       "52ef4766db18  <fireo.queries.query_wrapper.ReferenceDocLoade...   \n",
       "92a4dd214022  <fireo.queries.query_wrapper.ReferenceDocLoade...   \n",
       "686d97c6a1d9  <fireo.queries.query_wrapper.ReferenceDocLoade...   \n",
       "bc2e2aa0f672  <fireo.queries.query_wrapper.ReferenceDocLoade...   \n",
       "c7a7c3a7840a  <fireo.queries.query_wrapper.ReferenceDocLoade...   \n",
       "2105bc1d693d  <fireo.queries.query_wrapper.ReferenceDocLoade...   \n",
       "9e0be97e7578  <fireo.queries.query_wrapper.ReferenceDocLoade...   \n",
       "fe4356f68618  <fireo.queries.query_wrapper.ReferenceDocLoade...   \n",
       "52154cb9a101  <fireo.queries.query_wrapper.ReferenceDocLoade...   \n",
       "255b0fd045b1  <fireo.queries.query_wrapper.ReferenceDocLoade...   \n",
       "d5b8fd894744  <fireo.queries.query_wrapper.ReferenceDocLoade...   \n",
       "6f2874e03bb1  <fireo.queries.query_wrapper.ReferenceDocLoade...   \n",
       "\n",
       "                                                     person_ref decision  \\\n",
       "id                                                                         \n",
       "52ef4766db18  <fireo.queries.query_wrapper.ReferenceDocLoade...  Approve   \n",
       "92a4dd214022  <fireo.queries.query_wrapper.ReferenceDocLoade...  Approve   \n",
       "686d97c6a1d9  <fireo.queries.query_wrapper.ReferenceDocLoade...  Approve   \n",
       "bc2e2aa0f672  <fireo.queries.query_wrapper.ReferenceDocLoade...  Approve   \n",
       "c7a7c3a7840a  <fireo.queries.query_wrapper.ReferenceDocLoade...  Approve   \n",
       "2105bc1d693d  <fireo.queries.query_wrapper.ReferenceDocLoade...  Approve   \n",
       "9e0be97e7578  <fireo.queries.query_wrapper.ReferenceDocLoade...  Approve   \n",
       "fe4356f68618  <fireo.queries.query_wrapper.ReferenceDocLoade...  Approve   \n",
       "52154cb9a101  <fireo.queries.query_wrapper.ReferenceDocLoade...  Approve   \n",
       "255b0fd045b1  <fireo.queries.query_wrapper.ReferenceDocLoade...  Approve   \n",
       "d5b8fd894744  <fireo.queries.query_wrapper.ReferenceDocLoade...  Approve   \n",
       "6f2874e03bb1  <fireo.queries.query_wrapper.ReferenceDocLoade...  Approve   \n",
       "\n",
       "              in_majority external_source_id                key  \n",
       "id                                                               \n",
       "52ef4766db18         True             163368  vote/52ef4766db18  \n",
       "92a4dd214022         True             164119  vote/92a4dd214022  \n",
       "686d97c6a1d9         True             164156  vote/686d97c6a1d9  \n",
       "bc2e2aa0f672         True             163876  vote/bc2e2aa0f672  \n",
       "c7a7c3a7840a         True             163637  vote/c7a7c3a7840a  \n",
       "2105bc1d693d         True             164091  vote/2105bc1d693d  \n",
       "9e0be97e7578         True             163947  vote/9e0be97e7578  \n",
       "fe4356f68618         True             163562  vote/fe4356f68618  \n",
       "52154cb9a101         True             162824  vote/52154cb9a101  \n",
       "255b0fd045b1         True             163391  vote/255b0fd045b1  \n",
       "d5b8fd894744         True             163184  vote/d5b8fd894744  \n",
       "6f2874e03bb1         True             163652  vote/6f2874e03bb1  "
      ]
     },
     "execution_count": 55,
     "metadata": {},
     "output_type": "execute_result"
    }
   ],
   "source": [
    "# Preview random rows of dataframe\n",
    "voting_records_df.sample(12)"
   ]
  },
  {
   "cell_type": "markdown",
   "metadata": {},
   "source": [
    "***\n",
    "\n",
    "* We can see that most of the columns in our dataframe are still in the wrapped location data format from the database.\n",
    "* For the sake of this notebook we will just be looking at the \"decision\" and \"in_majority\" columns.\n",
    "* First off we will find out what possible values each of these variables can take on.\n",
    "\n",
    "***"
   ]
  },
  {
   "cell_type": "code",
   "execution_count": 56,
   "metadata": {},
   "outputs": [
    {
     "data": {
      "text/plain": [
       "['Approve', 'Reject']"
      ]
     },
     "execution_count": 56,
     "metadata": {},
     "output_type": "execute_result"
    }
   ],
   "source": [
    "## Get the unique values of decision column\n",
    "values = list(voting_records_df.decision.unique())\n",
    "values"
   ]
  },
  {
   "cell_type": "markdown",
   "metadata": {},
   "source": [
    "***\n",
    "\n",
    "<center> <h3>Proportions of Voting Decisions</h3> </center>\n",
    "\n",
    "***"
   ]
  },
  {
   "cell_type": "markdown",
   "metadata": {},
   "source": [
    "***\n",
    "\n",
    "* It looks like there are only two values in the decision column of our dataframe, possible values are: \"Approve\" or \"Reject\".\n",
    "* Let's tally up the totals for both approved and rejected votes and see what the proportion is.\n",
    "\n",
    "***"
   ]
  },
  {
   "cell_type": "code",
   "execution_count": 57,
   "metadata": {},
   "outputs": [
    {
     "data": {
      "text/html": [
       "<div>\n",
       "<style scoped>\n",
       "    .dataframe tbody tr th:only-of-type {\n",
       "        vertical-align: middle;\n",
       "    }\n",
       "\n",
       "    .dataframe tbody tr th {\n",
       "        vertical-align: top;\n",
       "    }\n",
       "\n",
       "    .dataframe thead th {\n",
       "        text-align: right;\n",
       "    }\n",
       "</style>\n",
       "<table border=\"1\" class=\"dataframe\">\n",
       "  <thead>\n",
       "    <tr style=\"text-align: right;\">\n",
       "      <th></th>\n",
       "      <th>decision</th>\n",
       "    </tr>\n",
       "  </thead>\n",
       "  <tbody>\n",
       "    <tr>\n",
       "      <th>Approve</th>\n",
       "      <td>1836</td>\n",
       "    </tr>\n",
       "    <tr>\n",
       "      <th>Reject</th>\n",
       "      <td>14</td>\n",
       "    </tr>\n",
       "  </tbody>\n",
       "</table>\n",
       "</div>"
      ],
      "text/plain": [
       "         decision\n",
       "Approve      1836\n",
       "Reject         14"
      ]
     },
     "execution_count": 57,
     "metadata": {},
     "output_type": "execute_result"
    }
   ],
   "source": [
    "## Count up the values for both approved and rejected votes\n",
    "totals = voting_records_df['decision'].value_counts()\n",
    "totals_df = pd.DataFrame(totals)\n",
    "totals_df"
   ]
  },
  {
   "cell_type": "code",
   "execution_count": 58,
   "metadata": {},
   "outputs": [
    {
     "data": {
      "image/png": "[encoded data removed]",
      "text/plain": [
       "<Figure size 1080x720 with 1 Axes>"
      ]
     },
     "metadata": {},
     "output_type": "display_data"
    }
   ],
   "source": [
    "## Plotting proportion of votes\n",
    "totals_data = totals[0], totals[1]\n",
    "\n",
    "\n",
    "## Explode data\n",
    "explode = (0.1, 0.0)\n",
    "\n",
    "## Color parameters\n",
    "colors = ( \"navy\", \"red\")\n",
    "\n",
    "## 3D properties\n",
    "wp = { 'linewidth' : 1, 'edgecolor' : \"green\" }\n",
    "\n",
    "## Function to Calculate and Display Proportions\n",
    "def func(pct, allvalues):\n",
    "    absolute = int(pct / 100.*sum(totals))\n",
    "    return \"{:.1f}%\\n({:d})\".format(pct, absolute)\n",
    " \n",
    "## Creating plot\n",
    "fig, ax = plt.subplots(figsize =(15, 10))\n",
    "wedges, texts, autotexts = ax.pie(totals_data,\n",
    "                                  autopct = lambda pct: func(pct, totals_data),\n",
    "                                  explode = explode,\n",
    "                                  labels = values,\n",
    "                                  shadow = True,\n",
    "                                  colors = colors,\n",
    "                                  startangle = 0,\n",
    "                                  wedgeprops = wp,\n",
    "                                  textprops = dict(color =\"lightgrey\"))\n",
    " \n",
    "## Plot Legend\n",
    "ax.legend(wedges, values,\n",
    "          title =\"Decision\",\n",
    "          loc =\"center left\",\n",
    "\n",
    "          bbox_to_anchor =(1, 0, .5, 1.4))\n",
    " \n",
    "plt.setp(autotexts, size = 12, weight =\"bold\")\n",
    "ax.set_title(\"Council Vote Decision Proportions\",\n",
    "            size = 20, weight =\"bold\")\n",
    " \n",
    "## Display Plot\n",
    "plt.show()\n"
   ]
  }
 ],
 "metadata": {
  "kernelspec": {
   "display_name": "Python 3 (ipykernel)",
   "language": "python",
   "name": "python3"
  },
  "language_info": {
   "codemirror_mode": {
    "name": "ipython",
    "version": 3
   },
   "file_extension": ".py",
   "mimetype": "text/x-python",
   "name": "python",
   "nbconvert_exporter": "python",
   "pygments_lexer": "ipython3",
   "version": "3.7.6"
  }
 },
 "nbformat": 4,
 "nbformat_minor": 4
}
