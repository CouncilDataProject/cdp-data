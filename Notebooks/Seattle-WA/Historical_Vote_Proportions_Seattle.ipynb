{
 "cells": [
  {
   "cell_type": "markdown",
   "metadata": {},
   "source": [
    "***\n",
    "\n",
    "<center> <h1>Historical Voting Records for Seattle</h1> </center>\n",
    "\n",
    "***"
   ]
  },
  {
   "cell_type": "markdown",
   "metadata": {},
   "source": [
    "***\n",
    "\n",
    "<center> <h3> Load relevant libraries for the task</h3> </center>\n",
    "\n",
    "***"
   ]
  },
  {
   "cell_type": "code",
   "execution_count": 49,
   "metadata": {},
   "outputs": [],
   "source": [
    "## Libraries for connection and retrieval from the database\n",
    "import fireo  \n",
    "from google.cloud.firestore import Client\n",
    "from google.auth.credentials import AnonymousCredentials\n",
    "from cdp_backend.database import models as db_models\n",
    "\n",
    "\n",
    "## Libraries for working with the data files\n",
    "import pandas as pd\n",
    "\n",
    "## For plotting\n",
    "from matplotlib import pyplot as plt\n",
    "import numpy as np"
   ]
  },
  {
   "cell_type": "code",
   "execution_count": 50,
   "metadata": {},
   "outputs": [],
   "source": [
    "## Open a connection to the Seattle Database\n",
    "\n",
    "seattle = fireo.connection(client=Client(\n",
    "    project=\"cdp-seattle-staging-dbengvtn\",\n",
    "    credentials=AnonymousCredentials()\n",
    "))"
   ]
  },
  {
   "cell_type": "markdown",
   "metadata": {},
   "source": [
    "***\n",
    "\n",
    "<center> <h3> Fetch all historical votes from data base</h3> </center>\n",
    "\n",
    "***"
   ]
  },
  {
   "cell_type": "code",
   "execution_count": 51,
   "metadata": {},
   "outputs": [
    {
     "data": {
      "text/plain": [
       "[<cdp_backend.database.models.Vote at 0x7fabf378ef90>,\n",
       " <cdp_backend.database.models.Vote at 0x7fabf5218c50>,\n",
       " <cdp_backend.database.models.Vote at 0x7fabf3792a90>,\n",
       " <cdp_backend.database.models.Vote at 0x7fabf3792d10>,\n",
       " <cdp_backend.database.models.Vote at 0x7fabf3792950>]"
      ]
     },
     "execution_count": 51,
     "metadata": {},
     "output_type": "execute_result"
    }
   ],
   "source": [
    "############ Select all of the records from the Vote table ############\n",
    "\n",
    "## If you want to specify a certain amount of records, just use an argument within fetch() function.\n",
    "voting_records = list(db_models.Vote.collection.fetch()) \n",
    "\n",
    "## Preview file\n",
    "voting_records[0:5]"
   ]
  },
  {
   "cell_type": "code",
   "execution_count": 52,
   "metadata": {},
   "outputs": [
    {
     "name": "stdout",
     "output_type": "stream",
     "text": [
      "Total Voting Records To Date: 3368\n"
     ]
    }
   ],
   "source": [
    "## Total voting records to date:\n",
    "\n",
    "print(\"Total Voting Records To Date:\", len(voting_records))"
   ]
  },
  {
   "cell_type": "markdown",
   "metadata": {},
   "source": [
    "***\n",
    "\n",
    "* These files actually just contain information about the voting records we are interested in.\n",
    "* In order to work with the files we need to \"unpack\" them using this information we retrieved.\n",
    "\n",
    "***"
   ]
  },
  {
   "cell_type": "code",
   "execution_count": 53,
   "metadata": {},
   "outputs": [],
   "source": [
    "## Function to unpack voting records with data retrieved\n",
    "\n",
    "def unpack_vote_objects(db_models_objects):\n",
    "    '''\n",
    "    Takes a list of db_models objects and returns a pandas dataframe.\n",
    "    \n",
    "    '''\n",
    "    unpack = list(map(lambda x: {**x.to_dict(), 'id': x.id}, db_models_objects))\n",
    "    voting_records_df = pd.DataFrame(unpack)\n",
    "    voting_records_df.set_index('id', inplace=True)\n",
    "    return(voting_records_df)\n",
    "\n",
    "## Call unpack function on our list of objects\n",
    "voting_records_df = unpack_vote_objects(voting_records)"
   ]
  },
  {
   "cell_type": "code",
   "execution_count": 54,
   "metadata": {},
   "outputs": [
    {
     "data": {
      "text/html": [
       "<div>\n",
       "<style scoped>\n",
       "    .dataframe tbody tr th:only-of-type {\n",
       "        vertical-align: middle;\n",
       "    }\n",
       "\n",
       "    .dataframe tbody tr th {\n",
       "        vertical-align: top;\n",
       "    }\n",
       "\n",
       "    .dataframe thead th {\n",
       "        text-align: right;\n",
       "    }\n",
       "</style>\n",
       "<table border=\"1\" class=\"dataframe\">\n",
       "  <thead>\n",
       "    <tr style=\"text-align: right;\">\n",
       "      <th></th>\n",
       "      <th>matter_ref</th>\n",
       "      <th>event_ref</th>\n",
       "      <th>event_minutes_item_ref</th>\n",
       "      <th>person_ref</th>\n",
       "      <th>decision</th>\n",
       "      <th>in_majority</th>\n",
       "      <th>external_source_id</th>\n",
       "      <th>key</th>\n",
       "    </tr>\n",
       "    <tr>\n",
       "      <th>id</th>\n",
       "      <th></th>\n",
       "      <th></th>\n",
       "      <th></th>\n",
       "      <th></th>\n",
       "      <th></th>\n",
       "      <th></th>\n",
       "      <th></th>\n",
       "      <th></th>\n",
       "    </tr>\n",
       "  </thead>\n",
       "  <tbody>\n",
       "    <tr>\n",
       "      <th>dffa7b7a1959</th>\n",
       "      <td>&lt;fireo.queries.query_wrapper.ReferenceDocLoade...</td>\n",
       "      <td>&lt;fireo.queries.query_wrapper.ReferenceDocLoade...</td>\n",
       "      <td>&lt;fireo.queries.query_wrapper.ReferenceDocLoade...</td>\n",
       "      <td>&lt;fireo.queries.query_wrapper.ReferenceDocLoade...</td>\n",
       "      <td>Approve</td>\n",
       "      <td>True</td>\n",
       "      <td>70392</td>\n",
       "      <td>vote/dffa7b7a1959</td>\n",
       "    </tr>\n",
       "    <tr>\n",
       "      <th>904e1ad7f9bb</th>\n",
       "      <td>&lt;fireo.queries.query_wrapper.ReferenceDocLoade...</td>\n",
       "      <td>&lt;fireo.queries.query_wrapper.ReferenceDocLoade...</td>\n",
       "      <td>&lt;fireo.queries.query_wrapper.ReferenceDocLoade...</td>\n",
       "      <td>&lt;fireo.queries.query_wrapper.ReferenceDocLoade...</td>\n",
       "      <td>Approve</td>\n",
       "      <td>True</td>\n",
       "      <td>72513</td>\n",
       "      <td>vote/904e1ad7f9bb</td>\n",
       "    </tr>\n",
       "    <tr>\n",
       "      <th>643c00af5342</th>\n",
       "      <td>&lt;fireo.queries.query_wrapper.ReferenceDocLoade...</td>\n",
       "      <td>&lt;fireo.queries.query_wrapper.ReferenceDocLoade...</td>\n",
       "      <td>&lt;fireo.queries.query_wrapper.ReferenceDocLoade...</td>\n",
       "      <td>&lt;fireo.queries.query_wrapper.ReferenceDocLoade...</td>\n",
       "      <td>Reject</td>\n",
       "      <td>False</td>\n",
       "      <td>71021</td>\n",
       "      <td>vote/643c00af5342</td>\n",
       "    </tr>\n",
       "    <tr>\n",
       "      <th>2c29fa4cb392</th>\n",
       "      <td>&lt;fireo.queries.query_wrapper.ReferenceDocLoade...</td>\n",
       "      <td>&lt;fireo.queries.query_wrapper.ReferenceDocLoade...</td>\n",
       "      <td>&lt;fireo.queries.query_wrapper.ReferenceDocLoade...</td>\n",
       "      <td>&lt;fireo.queries.query_wrapper.ReferenceDocLoade...</td>\n",
       "      <td>Approve</td>\n",
       "      <td>True</td>\n",
       "      <td>70959</td>\n",
       "      <td>vote/2c29fa4cb392</td>\n",
       "    </tr>\n",
       "    <tr>\n",
       "      <th>62a366022a0f</th>\n",
       "      <td>&lt;fireo.queries.query_wrapper.ReferenceDocLoade...</td>\n",
       "      <td>&lt;fireo.queries.query_wrapper.ReferenceDocLoade...</td>\n",
       "      <td>&lt;fireo.queries.query_wrapper.ReferenceDocLoade...</td>\n",
       "      <td>&lt;fireo.queries.query_wrapper.ReferenceDocLoade...</td>\n",
       "      <td>Approve</td>\n",
       "      <td>True</td>\n",
       "      <td>70657</td>\n",
       "      <td>vote/62a366022a0f</td>\n",
       "    </tr>\n",
       "    <tr>\n",
       "      <th>c38876ca2d40</th>\n",
       "      <td>&lt;fireo.queries.query_wrapper.ReferenceDocLoade...</td>\n",
       "      <td>&lt;fireo.queries.query_wrapper.ReferenceDocLoade...</td>\n",
       "      <td>&lt;fireo.queries.query_wrapper.ReferenceDocLoade...</td>\n",
       "      <td>&lt;fireo.queries.query_wrapper.ReferenceDocLoade...</td>\n",
       "      <td>Approve</td>\n",
       "      <td>True</td>\n",
       "      <td>71446</td>\n",
       "      <td>vote/c38876ca2d40</td>\n",
       "    </tr>\n",
       "    <tr>\n",
       "      <th>fdcd4158f2b4</th>\n",
       "      <td>&lt;fireo.queries.query_wrapper.ReferenceDocLoade...</td>\n",
       "      <td>&lt;fireo.queries.query_wrapper.ReferenceDocLoade...</td>\n",
       "      <td>&lt;fireo.queries.query_wrapper.ReferenceDocLoade...</td>\n",
       "      <td>&lt;fireo.queries.query_wrapper.ReferenceDocLoade...</td>\n",
       "      <td>Approve</td>\n",
       "      <td>True</td>\n",
       "      <td>70253</td>\n",
       "      <td>vote/fdcd4158f2b4</td>\n",
       "    </tr>\n",
       "    <tr>\n",
       "      <th>16806624dd4f</th>\n",
       "      <td>&lt;fireo.queries.query_wrapper.ReferenceDocLoade...</td>\n",
       "      <td>&lt;fireo.queries.query_wrapper.ReferenceDocLoade...</td>\n",
       "      <td>&lt;fireo.queries.query_wrapper.ReferenceDocLoade...</td>\n",
       "      <td>&lt;fireo.queries.query_wrapper.ReferenceDocLoade...</td>\n",
       "      <td>Approve</td>\n",
       "      <td>True</td>\n",
       "      <td>69737</td>\n",
       "      <td>vote/16806624dd4f</td>\n",
       "    </tr>\n",
       "    <tr>\n",
       "      <th>b90145853885</th>\n",
       "      <td>&lt;fireo.queries.query_wrapper.ReferenceDocLoade...</td>\n",
       "      <td>&lt;fireo.queries.query_wrapper.ReferenceDocLoade...</td>\n",
       "      <td>&lt;fireo.queries.query_wrapper.ReferenceDocLoade...</td>\n",
       "      <td>&lt;fireo.queries.query_wrapper.ReferenceDocLoade...</td>\n",
       "      <td>Approve</td>\n",
       "      <td>True</td>\n",
       "      <td>71063</td>\n",
       "      <td>vote/b90145853885</td>\n",
       "    </tr>\n",
       "    <tr>\n",
       "      <th>cd1fd22e5884</th>\n",
       "      <td>&lt;fireo.queries.query_wrapper.ReferenceDocLoade...</td>\n",
       "      <td>&lt;fireo.queries.query_wrapper.ReferenceDocLoade...</td>\n",
       "      <td>&lt;fireo.queries.query_wrapper.ReferenceDocLoade...</td>\n",
       "      <td>&lt;fireo.queries.query_wrapper.ReferenceDocLoade...</td>\n",
       "      <td>Approve</td>\n",
       "      <td>True</td>\n",
       "      <td>71351</td>\n",
       "      <td>vote/cd1fd22e5884</td>\n",
       "    </tr>\n",
       "    <tr>\n",
       "      <th>5194ed6dc7b6</th>\n",
       "      <td>&lt;fireo.queries.query_wrapper.ReferenceDocLoade...</td>\n",
       "      <td>&lt;fireo.queries.query_wrapper.ReferenceDocLoade...</td>\n",
       "      <td>&lt;fireo.queries.query_wrapper.ReferenceDocLoade...</td>\n",
       "      <td>&lt;fireo.queries.query_wrapper.ReferenceDocLoade...</td>\n",
       "      <td>Approve</td>\n",
       "      <td>True</td>\n",
       "      <td>72362</td>\n",
       "      <td>vote/5194ed6dc7b6</td>\n",
       "    </tr>\n",
       "    <tr>\n",
       "      <th>7802de365f44</th>\n",
       "      <td>&lt;fireo.queries.query_wrapper.ReferenceDocLoade...</td>\n",
       "      <td>&lt;fireo.queries.query_wrapper.ReferenceDocLoade...</td>\n",
       "      <td>&lt;fireo.queries.query_wrapper.ReferenceDocLoade...</td>\n",
       "      <td>&lt;fireo.queries.query_wrapper.ReferenceDocLoade...</td>\n",
       "      <td>Approve</td>\n",
       "      <td>True</td>\n",
       "      <td>72302</td>\n",
       "      <td>vote/7802de365f44</td>\n",
       "    </tr>\n",
       "  </tbody>\n",
       "</table>\n",
       "</div>"
      ],
      "text/plain": [
       "                                                     matter_ref  \\\n",
       "id                                                                \n",
       "dffa7b7a1959  <fireo.queries.query_wrapper.ReferenceDocLoade...   \n",
       "904e1ad7f9bb  <fireo.queries.query_wrapper.ReferenceDocLoade...   \n",
       "643c00af5342  <fireo.queries.query_wrapper.ReferenceDocLoade...   \n",
       "2c29fa4cb392  <fireo.queries.query_wrapper.ReferenceDocLoade...   \n",
       "62a366022a0f  <fireo.queries.query_wrapper.ReferenceDocLoade...   \n",
       "c38876ca2d40  <fireo.queries.query_wrapper.ReferenceDocLoade...   \n",
       "fdcd4158f2b4  <fireo.queries.query_wrapper.ReferenceDocLoade...   \n",
       "16806624dd4f  <fireo.queries.query_wrapper.ReferenceDocLoade...   \n",
       "b90145853885  <fireo.queries.query_wrapper.ReferenceDocLoade...   \n",
       "cd1fd22e5884  <fireo.queries.query_wrapper.ReferenceDocLoade...   \n",
       "5194ed6dc7b6  <fireo.queries.query_wrapper.ReferenceDocLoade...   \n",
       "7802de365f44  <fireo.queries.query_wrapper.ReferenceDocLoade...   \n",
       "\n",
       "                                                      event_ref  \\\n",
       "id                                                                \n",
       "dffa7b7a1959  <fireo.queries.query_wrapper.ReferenceDocLoade...   \n",
       "904e1ad7f9bb  <fireo.queries.query_wrapper.ReferenceDocLoade...   \n",
       "643c00af5342  <fireo.queries.query_wrapper.ReferenceDocLoade...   \n",
       "2c29fa4cb392  <fireo.queries.query_wrapper.ReferenceDocLoade...   \n",
       "62a366022a0f  <fireo.queries.query_wrapper.ReferenceDocLoade...   \n",
       "c38876ca2d40  <fireo.queries.query_wrapper.ReferenceDocLoade...   \n",
       "fdcd4158f2b4  <fireo.queries.query_wrapper.ReferenceDocLoade...   \n",
       "16806624dd4f  <fireo.queries.query_wrapper.ReferenceDocLoade...   \n",
       "b90145853885  <fireo.queries.query_wrapper.ReferenceDocLoade...   \n",
       "cd1fd22e5884  <fireo.queries.query_wrapper.ReferenceDocLoade...   \n",
       "5194ed6dc7b6  <fireo.queries.query_wrapper.ReferenceDocLoade...   \n",
       "7802de365f44  <fireo.queries.query_wrapper.ReferenceDocLoade...   \n",
       "\n",
       "                                         event_minutes_item_ref  \\\n",
       "id                                                                \n",
       "dffa7b7a1959  <fireo.queries.query_wrapper.ReferenceDocLoade...   \n",
       "904e1ad7f9bb  <fireo.queries.query_wrapper.ReferenceDocLoade...   \n",
       "643c00af5342  <fireo.queries.query_wrapper.ReferenceDocLoade...   \n",
       "2c29fa4cb392  <fireo.queries.query_wrapper.ReferenceDocLoade...   \n",
       "62a366022a0f  <fireo.queries.query_wrapper.ReferenceDocLoade...   \n",
       "c38876ca2d40  <fireo.queries.query_wrapper.ReferenceDocLoade...   \n",
       "fdcd4158f2b4  <fireo.queries.query_wrapper.ReferenceDocLoade...   \n",
       "16806624dd4f  <fireo.queries.query_wrapper.ReferenceDocLoade...   \n",
       "b90145853885  <fireo.queries.query_wrapper.ReferenceDocLoade...   \n",
       "cd1fd22e5884  <fireo.queries.query_wrapper.ReferenceDocLoade...   \n",
       "5194ed6dc7b6  <fireo.queries.query_wrapper.ReferenceDocLoade...   \n",
       "7802de365f44  <fireo.queries.query_wrapper.ReferenceDocLoade...   \n",
       "\n",
       "                                                     person_ref decision  \\\n",
       "id                                                                         \n",
       "dffa7b7a1959  <fireo.queries.query_wrapper.ReferenceDocLoade...  Approve   \n",
       "904e1ad7f9bb  <fireo.queries.query_wrapper.ReferenceDocLoade...  Approve   \n",
       "643c00af5342  <fireo.queries.query_wrapper.ReferenceDocLoade...   Reject   \n",
       "2c29fa4cb392  <fireo.queries.query_wrapper.ReferenceDocLoade...  Approve   \n",
       "62a366022a0f  <fireo.queries.query_wrapper.ReferenceDocLoade...  Approve   \n",
       "c38876ca2d40  <fireo.queries.query_wrapper.ReferenceDocLoade...  Approve   \n",
       "fdcd4158f2b4  <fireo.queries.query_wrapper.ReferenceDocLoade...  Approve   \n",
       "16806624dd4f  <fireo.queries.query_wrapper.ReferenceDocLoade...  Approve   \n",
       "b90145853885  <fireo.queries.query_wrapper.ReferenceDocLoade...  Approve   \n",
       "cd1fd22e5884  <fireo.queries.query_wrapper.ReferenceDocLoade...  Approve   \n",
       "5194ed6dc7b6  <fireo.queries.query_wrapper.ReferenceDocLoade...  Approve   \n",
       "7802de365f44  <fireo.queries.query_wrapper.ReferenceDocLoade...  Approve   \n",
       "\n",
       "             in_majority external_source_id                key  \n",
       "id                                                              \n",
       "dffa7b7a1959        True              70392  vote/dffa7b7a1959  \n",
       "904e1ad7f9bb        True              72513  vote/904e1ad7f9bb  \n",
       "643c00af5342       False              71021  vote/643c00af5342  \n",
       "2c29fa4cb392        True              70959  vote/2c29fa4cb392  \n",
       "62a366022a0f        True              70657  vote/62a366022a0f  \n",
       "c38876ca2d40        True              71446  vote/c38876ca2d40  \n",
       "fdcd4158f2b4        True              70253  vote/fdcd4158f2b4  \n",
       "16806624dd4f        True              69737  vote/16806624dd4f  \n",
       "b90145853885        True              71063  vote/b90145853885  \n",
       "cd1fd22e5884        True              71351  vote/cd1fd22e5884  \n",
       "5194ed6dc7b6        True              72362  vote/5194ed6dc7b6  \n",
       "7802de365f44        True              72302  vote/7802de365f44  "
      ]
     },
     "execution_count": 54,
     "metadata": {},
     "output_type": "execute_result"
    }
   ],
   "source": [
    "# Preview random rows of dataframe\n",
    "voting_records_df.sample(12)"
   ]
  },
  {
   "cell_type": "markdown",
   "metadata": {},
   "source": [
    "***\n",
    "\n",
    "* We can see that most of the columns in our dataframe are still in the wrapped location data format from the database.\n",
    "* For the sake of this notebook we will just be looking at the \"decision\" and \"in_majority\" columns.\n",
    "* First off we will find out what possible values each of these variables can take on.\n",
    "\n",
    "***"
   ]
  },
  {
   "cell_type": "code",
   "execution_count": 55,
   "metadata": {},
   "outputs": [
    {
     "data": {
      "text/plain": [
       "['Approve', 'Absent (Non-Voting)', 'Reject']"
      ]
     },
     "execution_count": 55,
     "metadata": {},
     "output_type": "execute_result"
    }
   ],
   "source": [
    "## Get the unique values of decision column\n",
    "values = list(voting_records_df.decision.unique())\n",
    "values"
   ]
  },
  {
   "cell_type": "markdown",
   "metadata": {},
   "source": [
    "***\n",
    "\n",
    "<center> <h3>Proportions of Voting Decisions</h3> </center>\n",
    "\n",
    "***"
   ]
  },
  {
   "cell_type": "markdown",
   "metadata": {},
   "source": [
    "***\n",
    "\n",
    "* It looks like there are only three possible values for the decision column in our data, the possible values are: \"Approve\", \"Reject\" or the member is \"Absent/Non-Voting\".\n",
    "* Let's tally up the totals for each decision value and see what the proportion is.\n",
    "\n",
    "***"
   ]
  },
  {
   "cell_type": "code",
   "execution_count": 56,
   "metadata": {},
   "outputs": [
    {
     "data": {
      "text/html": [
       "<div>\n",
       "<style scoped>\n",
       "    .dataframe tbody tr th:only-of-type {\n",
       "        vertical-align: middle;\n",
       "    }\n",
       "\n",
       "    .dataframe tbody tr th {\n",
       "        vertical-align: top;\n",
       "    }\n",
       "\n",
       "    .dataframe thead th {\n",
       "        text-align: right;\n",
       "    }\n",
       "</style>\n",
       "<table border=\"1\" class=\"dataframe\">\n",
       "  <thead>\n",
       "    <tr style=\"text-align: right;\">\n",
       "      <th></th>\n",
       "      <th>decision</th>\n",
       "    </tr>\n",
       "  </thead>\n",
       "  <tbody>\n",
       "    <tr>\n",
       "      <th>Approve</th>\n",
       "      <td>3288</td>\n",
       "    </tr>\n",
       "    <tr>\n",
       "      <th>Reject</th>\n",
       "      <td>76</td>\n",
       "    </tr>\n",
       "    <tr>\n",
       "      <th>Absent (Non-Voting)</th>\n",
       "      <td>4</td>\n",
       "    </tr>\n",
       "  </tbody>\n",
       "</table>\n",
       "</div>"
      ],
      "text/plain": [
       "                     decision\n",
       "Approve                  3288\n",
       "Reject                     76\n",
       "Absent (Non-Voting)         4"
      ]
     },
     "execution_count": 56,
     "metadata": {},
     "output_type": "execute_result"
    }
   ],
   "source": [
    "## Count up the values for both approved and rejected votes\n",
    "totals = voting_records_df['decision'].value_counts()\n",
    "totals_df = pd.DataFrame(totals)\n",
    "totals_df"
   ]
  },
  {
   "cell_type": "markdown",
   "metadata": {},
   "source": [
    "***\n",
    "\n",
    "* Since Absent/Non-Voting is such an insignificant amount we will just focus on the \"Accept\" and \"Reject\" values.\n",
    "\n",
    "***"
   ]
  },
  {
   "cell_type": "code",
   "execution_count": 57,
   "metadata": {},
   "outputs": [],
   "source": [
    "totals_df = pd.DataFrame(totals[:2])\n",
    "values = values[0:3:2]"
   ]
  },
  {
   "cell_type": "code",
   "execution_count": 58,
   "metadata": {},
   "outputs": [
    {
     "data": {
      "image/png": "[encoded data removed]",
      "text/plain": [
       "<Figure size 1080x720 with 1 Axes>"
      ]
     },
     "metadata": {},
     "output_type": "display_data"
    }
   ],
   "source": [
    "## Plotting proportion of votes\n",
    "totals_data = totals[0], totals[1]\n",
    "\n",
    "\n",
    "## Explode data\n",
    "explode = (0.1, 0.0)\n",
    "\n",
    "## Color parameters\n",
    "colors = ( \"navy\", \"red\")\n",
    "\n",
    "## 3D properties\n",
    "wp = { 'linewidth' : 1, 'edgecolor' : \"green\" }\n",
    "\n",
    "## Function to Calculate and Display Proportions\n",
    "def func(pct, allvalues):\n",
    "    absolute = int(pct / 100.*sum(totals))\n",
    "    return \"{:.1f}%\\n({:d})\".format(pct, absolute)\n",
    " \n",
    "## Creating plot\n",
    "fig, ax = plt.subplots(figsize =(15, 10))\n",
    "wedges, texts, autotexts = ax.pie(totals_data,\n",
    "                                  autopct = lambda pct: func(pct, totals_data),\n",
    "                                  explode = explode,\n",
    "                                  labels = values,\n",
    "                                  shadow = True,\n",
    "                                  colors = colors,\n",
    "                                  startangle = 5,\n",
    "                                  wedgeprops = wp,\n",
    "                                  textprops = dict(color =\"lightgrey\"))\n",
    " \n",
    "## Plot Legend\n",
    "ax.legend(wedges, values,\n",
    "          title =\"Decision\",\n",
    "          loc =\"center left\",\n",
    "\n",
    "          bbox_to_anchor =(1, 0, .5, 1.4))\n",
    " \n",
    "plt.setp(autotexts, size = 12, weight =\"bold\")\n",
    "ax.set_title(\"Council Vote Decision Proportions\",\n",
    "            size = 20, weight =\"bold\")\n",
    " \n",
    "## Display Plot\n",
    "plt.show()\n"
   ]
  },
  {
   "cell_type": "markdown",
   "metadata": {},
   "source": [
    "***\n",
    "\n",
    "* This seems like an extremely high proportion of Approval votes.\n",
    "* It is important to note that these are the total votes and not the actual outcomes for proposed legislative items.\n",
    "* The purpose of this notebook is not to try to explain why the votes to Approve are so dominant, but merely just to display this fact.\n",
    "\n",
    "***"
   ]
  }
 ],
 "metadata": {
  "kernelspec": {
   "display_name": "Python 3 (ipykernel)",
   "language": "python",
   "name": "python3"
  },
  "language_info": {
   "codemirror_mode": {
    "name": "ipython",
    "version": 3
   },
   "file_extension": ".py",
   "mimetype": "text/x-python",
   "name": "python",
   "nbconvert_exporter": "python",
   "pygments_lexer": "ipython3",
   "version": "3.7.6"
  }
 },
 "nbformat": 4,
 "nbformat_minor": 4
}
